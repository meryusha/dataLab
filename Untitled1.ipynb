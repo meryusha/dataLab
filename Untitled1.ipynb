{
 "cells": [
  {
   "cell_type": "code",
   "execution_count": 1,
   "metadata": {},
   "outputs": [],
   "source": [
    "a = 5"
   ]
  },
  {
   "cell_type": "code",
   "execution_count": 2,
   "metadata": {},
   "outputs": [],
   "source": [
    "b = 7"
   ]
  },
  {
   "cell_type": "code",
   "execution_count": 4,
   "metadata": {},
   "outputs": [
    {
     "name": "stdout",
     "output_type": "stream",
     "text": [
      "My  name is Merey and I am 23 years old\n"
     ]
    }
   ],
   "source": [
    "name = \"Merey\"\n",
    "age = 23\n",
    "print(\"My  name is {} and I am {} years old\".format(name, age))"
   ]
  },
  {
   "cell_type": "code",
   "execution_count": 5,
   "metadata": {},
   "outputs": [],
   "source": [
    "nest = [1, 2, 3, [4, 5, ['target']]]"
   ]
  },
  {
   "cell_type": "code",
   "execution_count": 6,
   "metadata": {},
   "outputs": [
    {
     "data": {
      "text/plain": [
       "'target'"
      ]
     },
     "execution_count": 6,
     "metadata": {},
     "output_type": "execute_result"
    }
   ],
   "source": [
    "nest[3][2][0]"
   ]
  },
  {
   "cell_type": "code",
   "execution_count": 7,
   "metadata": {},
   "outputs": [],
   "source": [
    "d = {'key1': 'Hey', 'key2': 'Adam', 'key3': 'how'}"
   ]
  },
  {
   "cell_type": "code",
   "execution_count": 8,
   "metadata": {},
   "outputs": [
    {
     "data": {
      "text/plain": [
       "{'key1': 'Hey', 'key2': 'Adam', 'key3': 'how'}"
      ]
     },
     "execution_count": 8,
     "metadata": {},
     "output_type": "execute_result"
    }
   ],
   "source": [
    "d"
   ]
  },
  {
   "cell_type": "code",
   "execution_count": 9,
   "metadata": {},
   "outputs": [],
   "source": [
    "d[2] = \"are\""
   ]
  },
  {
   "cell_type": "code",
   "execution_count": 10,
   "metadata": {},
   "outputs": [
    {
     "data": {
      "text/plain": [
       "{'key1': 'Hey', 'key2': 'Adam', 'key3': 'how', 2: 'are'}"
      ]
     },
     "execution_count": 10,
     "metadata": {},
     "output_type": "execute_result"
    }
   ],
   "source": [
    "d"
   ]
  },
  {
   "cell_type": "code",
   "execution_count": 11,
   "metadata": {},
   "outputs": [],
   "source": [
    "d['key1'] = 'Bonjour'"
   ]
  },
  {
   "cell_type": "code",
   "execution_count": 12,
   "metadata": {},
   "outputs": [
    {
     "data": {
      "text/plain": [
       "{'key1': 'Bonjour', 'key2': 'Adam', 'key3': 'how', 2: 'are'}"
      ]
     },
     "execution_count": 12,
     "metadata": {},
     "output_type": "execute_result"
    }
   ],
   "source": [
    "d"
   ]
  },
  {
   "cell_type": "code",
   "execution_count": 13,
   "metadata": {},
   "outputs": [
    {
     "ename": "NameError",
     "evalue": "name 'key' is not defined",
     "output_type": "error",
     "traceback": [
      "\u001b[0;31m---------------------------------------------------------------------------\u001b[0m",
      "\u001b[0;31mNameError\u001b[0m                                 Traceback (most recent call last)",
      "\u001b[0;32m<ipython-input-13-c3bf40b47f84>\u001b[0m in \u001b[0;36m<module>\u001b[0;34m()\u001b[0m\n\u001b[0;32m----> 1\u001b[0;31m \u001b[0md\u001b[0m\u001b[0;34m[\u001b[0m\u001b[0mkey\u001b[0m\u001b[0;34m]\u001b[0m \u001b[0;34m=\u001b[0m \u001b[0;34m\"ololo\"\u001b[0m\u001b[0;34m\u001b[0m\u001b[0m\n\u001b[0m",
      "\u001b[0;31mNameError\u001b[0m: name 'key' is not defined"
     ]
    }
   ],
   "source": [
    "d[key] = \"ololo\""
   ]
  },
  {
   "cell_type": "code",
   "execution_count": 23,
   "metadata": {},
   "outputs": [],
   "source": [
    "list = [{'name': 'Merey', 'salary': 1934}, {'name': 'Aizhan', 'salary': 20000}, {'name': 'Larissa', 'salary' : 1234}]"
   ]
  },
  {
   "cell_type": "code",
   "execution_count": 24,
   "metadata": {},
   "outputs": [
    {
     "data": {
      "text/plain": [
       "[{'name': 'Merey', 'salary': 1934},\n",
       " {'name': 'Aizhan', 'salary': 20000},\n",
       " {'name': 'Larissa', 'salary': 1234}]"
      ]
     },
     "execution_count": 24,
     "metadata": {},
     "output_type": "execute_result"
    }
   ],
   "source": [
    "list\n"
   ]
  },
  {
   "cell_type": "code",
   "execution_count": 22,
   "metadata": {},
   "outputs": [
    {
     "data": {
      "text/plain": [
       "'Merey'"
      ]
     },
     "execution_count": 22,
     "metadata": {},
     "output_type": "execute_result"
    }
   ],
   "source": [
    "list[0]['name']"
   ]
  },
  {
   "cell_type": "code",
   "execution_count": 25,
   "metadata": {},
   "outputs": [
    {
     "name": "stdout",
     "output_type": "stream",
     "text": [
      "Merey\n",
      "Aizhan\n",
      "Larissa\n"
     ]
    }
   ],
   "source": [
    "for a in list:\n",
    "    print(a['name'])"
   ]
  },
  {
   "cell_type": "code",
   "execution_count": 26,
   "metadata": {},
   "outputs": [],
   "source": [
    "a = [1,2,3,4,5]"
   ]
  },
  {
   "cell_type": "code",
   "execution_count": 27,
   "metadata": {},
   "outputs": [
    {
     "data": {
      "text/plain": [
       "3"
      ]
     },
     "execution_count": 27,
     "metadata": {},
     "output_type": "execute_result"
    }
   ],
   "source": [
    "a.index(4)"
   ]
  },
  {
   "cell_type": "code",
   "execution_count": 28,
   "metadata": {},
   "outputs": [
    {
     "ename": "ValueError",
     "evalue": "77 is not in list",
     "output_type": "error",
     "traceback": [
      "\u001b[0;31m---------------------------------------------------------------------------\u001b[0m",
      "\u001b[0;31mValueError\u001b[0m                                Traceback (most recent call last)",
      "\u001b[0;32m<ipython-input-28-515db5e15a02>\u001b[0m in \u001b[0;36m<module>\u001b[0;34m()\u001b[0m\n\u001b[0;32m----> 1\u001b[0;31m \u001b[0ma\u001b[0m\u001b[0;34m.\u001b[0m\u001b[0mindex\u001b[0m\u001b[0;34m(\u001b[0m\u001b[0;36m77\u001b[0m\u001b[0;34m)\u001b[0m\u001b[0;34m\u001b[0m\u001b[0m\n\u001b[0m",
      "\u001b[0;31mValueError\u001b[0m: 77 is not in list"
     ]
    }
   ],
   "source": [
    "a.index(77)"
   ]
  },
  {
   "cell_type": "code",
   "execution_count": 30,
   "metadata": {},
   "outputs": [
    {
     "name": "stdout",
     "output_type": "stream",
     "text": [
      "Apple\n",
      "Apricot\n"
     ]
    }
   ],
   "source": [
    "fruits = ['Apple', 'Banana', 'Orange', 'Pineapple', 'Apricot']\n",
    "for fruit in fruits:\n",
    "    if fruit[0] == 'A':\n",
    "        print(fruit)\n",
    "          "
   ]
  },
  {
   "cell_type": "code",
   "execution_count": 36,
   "metadata": {},
   "outputs": [],
   "source": [
    "a = [{'name' :'Vasya', 'salary': 500},\n",
    "     {'name' :'Aidos', 'salary': 200},\n",
    "     {'name' :'Nurzhan', 'salary': 800},\n",
    "     {'name' :'Victory', 'salary': 550}]"
   ]
  },
  {
   "cell_type": "code",
   "execution_count": 37,
   "metadata": {},
   "outputs": [
    {
     "name": "stdout",
     "output_type": "stream",
     "text": [
      "Vasya\n",
      "Victory\n"
     ]
    }
   ],
   "source": [
    "for item in a:\n",
    "    if item['salary'] > 300 and item['name'][0] == 'V':\n",
    "        print(item['name'])"
   ]
  },
  {
   "cell_type": "code",
   "execution_count": 39,
   "metadata": {},
   "outputs": [
    {
     "name": "stdout",
     "output_type": "stream",
     "text": [
      "[1, 2, 4, 8, 16, 32, 64, 128, 256, 512, 1024]\n"
     ]
    }
   ],
   "source": [
    "a = []\n",
    "for i in range(0,11):\n",
    "    a.append(2**i)\n",
    "print(a)"
   ]
  },
  {
   "cell_type": "code",
   "execution_count": 40,
   "metadata": {},
   "outputs": [],
   "source": [
    "list_fib = [1, 1]\n",
    "for i in range(2, 20):\n",
    "    list_fib.append(list_fib[-1] + list_fib[-2] )"
   ]
  },
  {
   "cell_type": "code",
   "execution_count": 41,
   "metadata": {},
   "outputs": [
    {
     "data": {
      "text/plain": [
       "[1,\n",
       " 1,\n",
       " 2,\n",
       " 3,\n",
       " 5,\n",
       " 8,\n",
       " 13,\n",
       " 21,\n",
       " 34,\n",
       " 55,\n",
       " 89,\n",
       " 144,\n",
       " 233,\n",
       " 377,\n",
       " 610,\n",
       " 987,\n",
       " 1597,\n",
       " 2584,\n",
       " 4181,\n",
       " 6765]"
      ]
     },
     "execution_count": 41,
     "metadata": {},
     "output_type": "execute_result"
    }
   ],
   "source": [
    "list_fib"
   ]
  },
  {
   "cell_type": "code",
   "execution_count": 42,
   "metadata": {},
   "outputs": [
    {
     "name": "stdout",
     "output_type": "stream",
     "text": [
      "heeey, what is your name?:)Merey\n",
      "Nice to meet you, Merey\n"
     ]
    }
   ],
   "source": [
    "name = input(\"heeey, what is your name?:)\")\n",
    "print(\"Nice to meet you, {}\".format(name))"
   ]
  },
  {
   "cell_type": "code",
   "execution_count": 72,
   "metadata": {},
   "outputs": [
    {
     "name": "stdout",
     "output_type": "stream",
     "text": [
      "Please, enter your emaildfe.rt@rg.fd\n",
      "2\n",
      "email is OKAY\n"
     ]
    }
   ],
   "source": [
    "email = input('Please, enter your email')\n",
    "#need to have ONLY ONE @ and some text before it\n",
    "#also, make sure to have at least one dot (.)\n",
    "parseString = email.split('@')   \n",
    "print(len(parseString))\n",
    "if len(parseString) == 2 and len(parseString[0]) > 0:\n",
    "    #print(parseString[1])\n",
    "    dotSplitArr = parseString[1].split('.')  \n",
    "    if len(dotSplitArr) > 1:\n",
    "        dotSplitArr += parseString[0].split('.')\n",
    "        isOkay = True\n",
    "        for i in dotSplitArr:\n",
    "            if len(i) < 1:\n",
    "                print('Bad email, you are missing some text')\n",
    "                isOkay = False\n",
    "                break\n",
    "        if isOkay:        \n",
    "            print('email is OKAY')\n",
    "    else:\n",
    "        print(\"Bad email, you should have at least one dot\")\n",
    "else:\n",
    "    print('Bad email, you should have EXACTLY ONE @ and some text before it')"
   ]
  },
  {
   "cell_type": "code",
   "execution_count": 106,
   "metadata": {},
   "outputs": [],
   "source": [
    "#working with arrays\n",
    "a = [[1, 4, 9, 5, 2, 5],\n",
    "    [3, 5, 7, 7, 2, 4],\n",
    "    [3, 5, 4, 7, 2, 3],\n",
    "    [3, 3, 3, 7, 2, 4],\n",
    "    [8, 5, 7, 7, 4, 5]]"
   ]
  },
  {
   "cell_type": "code",
   "execution_count": 109,
   "metadata": {},
   "outputs": [
    {
     "name": "stdout",
     "output_type": "stream",
     "text": [
      "1 4 9 5 2 5\n",
      "3 5 1 0 2 4\n",
      "3 5 4 7 2 3\n",
      "0 0 3 7 2 4\n",
      "8 5 1 0 4 5\n"
     ]
    }
   ],
   "source": [
    "for i in range (len(a)):\n",
    "    for j in range (1,len(a[i])):\n",
    "        if(a[i][j] == a[i][j - 1]):\n",
    "            a[i][j] = 0\n",
    "            a[i][j - 1] = 0\n",
    "        \n",
    "        print(a[i][j - 1], end = ' ')\n",
    "    print(a[i][len(a[i]) - 1])\n",
    "    \n",
    "for i in range (len(a)):\n",
    "    for j in range (len(a[i])):\n",
    "        if a[i][j] == 9:\n",
    "            for k in range (i, len(a)):\n",
    "                #print(i, j, k)\n",
    "                if a[k][j] == 0:\n",
    "                    a[k][j] = 1\n",
    "\n",
    "                    "
   ]
  },
  {
   "cell_type": "code",
   "execution_count": 1,
   "metadata": {},
   "outputs": [],
   "source": [
    "arr = [[1, 0, -1, 0, 0, 0, 0, 0, 0],\n",
    "      [0, 0, -1, 0, 0, 0, 0, 0, 0],\n",
    "      [0, 0, -1, 0, 0, 0, 0, 0, 0],\n",
    "      [-1, -1, 0, 0, 0, 0, 0, 0, 0],\n",
    "      [0, 0, 0, 0, 0, 0, 0, 0, 0],\n",
    "      [0, 0, 0, 0, 0, 0, 0, 0, 0]]\n"
   ]
  },
  {
   "cell_type": "code",
   "execution_count": 2,
   "metadata": {},
   "outputs": [
    {
     "name": "stdout",
     "output_type": "stream",
     "text": [
      "1 2 -1 0 0 0 0 0 0 \n",
      "2 3 -1 0 0 0 0 0 0 \n",
      "3 4 -1 0 0 0 0 0 0 \n",
      "-1 -1 0 0 0 0 0 0 0 \n",
      "0 0 0 0 0 0 0 0 0 \n",
      "0 0 0 0 0 0 0 0 0 \n"
     ]
    }
   ],
   "source": [
    "rows = len(arr)\n",
    "cols = len(arr[0])\n",
    "hasZeroes = True\n",
    "count = 1\n",
    "while hasZeroes:\n",
    "    hasZeroes = False\n",
    "    count = count + 1;\n",
    "    for i in range (rows):\n",
    "        for j in range (cols):\n",
    "            if arr[i][j] == 0:\n",
    "                if (i + 1 < rows and arr[i + 1][j] == count - 1) or(i - 1 >= 0 and arr[i - 1][j] == count - 1) or (j + 1 < cols and arr[i][j + 1] == count - 1) or (j - 1 >= 0 and arr[i][j - 1] == count - 1):\n",
    "                    arr[i][j] = count\n",
    "                    hasZeroes = True\n",
    "                    \n",
    "for i in range (rows):\n",
    "    for j in range (cols): \n",
    "        print (arr[i][j], end = ' ')\n",
    "    print()\n",
    "                "
   ]
  },
  {
   "cell_type": "code",
   "execution_count": 144,
   "metadata": {},
   "outputs": [],
   "source": [
    "import numpy as np\n",
    "array = np.zeros(10)"
   ]
  },
  {
   "cell_type": "code",
   "execution_count": 24,
   "metadata": {},
   "outputs": [
    {
     "data": {
      "image/png": "[encoded data removed]",
      "text/plain": [
       "<Figure size 432x288 with 1 Axes>"
      ]
     },
     "metadata": {},
     "output_type": "display_data"
    }
   ],
   "source": [
    "\n"
   ]
  },
  {
   "cell_type": "code",
   "execution_count": 6,
   "metadata": {},
   "outputs": [
    {
     "data": {
      "text/plain": [
       "[<matplotlib.lines.Line2D at 0x7fb09e3450f0>]"
      ]
     },
     "execution_count": 6,
     "metadata": {},
     "output_type": "execute_result"
    },
    {
     "data": {
      "image/png": "[encoded data removed]",
      "text/plain": [
       "<Figure size 432x288 with 1 Axes>"
      ]
     },
     "metadata": {},
     "output_type": "display_data"
    }
   ],
   "source": []
  },
  {
   "cell_type": "code",
   "execution_count": 8,
   "metadata": {},
   "outputs": [
    {
     "data": {
      "image/png": "[encoded data removed]",
      "text/plain": [
       "<Figure size 432x288 with 1 Axes>"
      ]
     },
     "metadata": {},
     "output_type": "display_data"
    }
   ],
   "source": []
  },
  {
   "cell_type": "code",
   "execution_count": 11,
   "metadata": {},
   "outputs": [
    {
     "data": {
      "text/plain": [
       "[<matplotlib.lines.Line2D at 0x7fb09e14bba8>]"
      ]
     },
     "execution_count": 11,
     "metadata": {},
     "output_type": "execute_result"
    },
    {
     "data": {
      "image/png": "[encoded data removed]",
      "text/plain": [
       "<Figure size 432x288 with 2 Axes>"
      ]
     },
     "metadata": {},
     "output_type": "display_data"
    }
   ],
   "source": []
  },
  {
   "cell_type": "code",
   "execution_count": 16,
   "metadata": {},
   "outputs": [
    {
     "data": {
      "text/plain": [
       "[<matplotlib.lines.Line2D at 0x7fb09e284828>]"
      ]
     },
     "execution_count": 16,
     "metadata": {},
     "output_type": "execute_result"
    },
    {
     "data": {
      "image/png": "[encoded data removed]",
      "text/plain": [
       "<Figure size 432x288 with 2 Axes>"
      ]
     },
     "metadata": {},
     "output_type": "display_data"
    }
   ],
   "source": []
  },
  {
   "cell_type": "code",
   "execution_count": null,
   "metadata": {},
   "outputs": [],
   "source": []
  },
  {
   "cell_type": "code",
   "execution_count": 32,
   "metadata": {},
   "outputs": [
    {
     "data": {
      "text/plain": [
       "[<matplotlib.lines.Line2D at 0x7fb09e07eac8>]"
      ]
     },
     "execution_count": 32,
     "metadata": {},
     "output_type": "execute_result"
    },
    {
     "data": {
      "image/png": "[encoded data removed]",
      "text/plain": [
       "<Figure size 432x288 with 1 Axes>"
      ]
     },
     "metadata": {},
     "output_type": "display_data"
    }
   ],
   "source": []
  },
  {
   "cell_type": "code",
   "execution_count": null,
   "metadata": {},
   "outputs": [],
   "source": []
  }
 ],
 "metadata": {
  "hide_input": false,
  "kernelspec": {
   "display_name": "Python 3",
   "language": "python",
   "name": "python3"
  },
  "language_info": {
   "codemirror_mode": {
    "name": "ipython",
    "version": 3
   },
   "file_extension": ".py",
   "mimetype": "text/x-python",
   "name": "python",
   "nbconvert_exporter": "python",
   "pygments_lexer": "ipython3",
   "version": "3.6.5"
  },
  "toc": {
   "base_numbering": 1,
   "nav_menu": {},
   "number_sections": true,
   "sideBar": true,
   "skip_h1_title": false,
   "title_cell": "Table of Contents",
   "title_sidebar": "Contents",
   "toc_cell": false,
   "toc_position": {},
   "toc_section_display": true,
   "toc_window_display": false
  }
 },
 "nbformat": 4,
 "nbformat_minor": 2
}
