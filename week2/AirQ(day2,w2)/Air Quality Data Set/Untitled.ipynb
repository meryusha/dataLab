{
 "cells": [
  {
   "cell_type": "code",
   "execution_count": 135,
   "metadata": {},
   "outputs": [],
   "source": [
    "import pandas as pd\n",
    "import numpy as np\n",
    "\n",
    "import matplotlib.pyplot as plt\n",
    "%matplotlib inline\n",
    "\n",
    "import seaborn as sns\n",
    "\n",
    "from tqdm import tqdm_notebook\n",
    "\n",
    "import os\n",
    "\n",
    "import warnings\n",
    "warnings.filterwarnings('ignore')\n",
    "\n",
    "from pandas_profiling import ProfileReport"
   ]
  },
  {
   "cell_type": "code",
   "execution_count": 136,
   "metadata": {},
   "outputs": [],
   "source": [
    "from sklearn.linear_model import LinearRegression, Ridge, Lasso, ElasticNet\n",
    "from sklearn.preprocessing import StandardScaler\n",
    "from sklearn.model_selection import cross_val_score, GridSearchCV, train_test_split, TimeSeriesSplit\n",
    "\n",
    "from sklearn.metrics import mean_squared_error\n",
    "from sklearn.metrics import explained_variance_score\n",
    "from sklearn.metrics import r2_score\n",
    "from sklearn.metrics import mean_absolute_error\n",
    "from sklearn.metrics import median_absolute_error\n",
    "\n",
    "random_state=17\n",
    "\n",
    "from scipy.stats import skew"
   ]
  },
  {
   "cell_type": "code",
   "execution_count": 137,
   "metadata": {},
   "outputs": [],
   "source": [
    "dataset = pd.read_excel('AirQualityUCI.xlsx')"
   ]
  },
  {
   "cell_type": "code",
   "execution_count": 138,
   "metadata": {},
   "outputs": [],
   "source": [
    "#dataset.head()"
   ]
  },
  {
   "cell_type": "code",
   "execution_count": 139,
   "metadata": {},
   "outputs": [],
   "source": [
    "#dataset.info()"
   ]
  },
  {
   "cell_type": "code",
   "execution_count": 140,
   "metadata": {},
   "outputs": [
    {
     "data": {
      "text/plain": [
       "Timestamp('2005-04-04 00:00:00')"
      ]
     },
     "execution_count": 140,
     "metadata": {},
     "output_type": "execute_result"
    }
   ],
   "source": [
    "dataset['Date'].max()"
   ]
  },
  {
   "cell_type": "code",
   "execution_count": 141,
   "metadata": {},
   "outputs": [
    {
     "data": {
      "text/plain": [
       "<Figure size 7200x7200 with 0 Axes>"
      ]
     },
     "execution_count": 141,
     "metadata": {},
     "output_type": "execute_result"
    },
    {
     "data": {
      "text/plain": [
       "<Figure size 7200x7200 with 0 Axes>"
      ]
     },
     "metadata": {},
     "output_type": "display_data"
    }
   ],
   "source": [
    "plt.figure(figsize = (100, 100))"
   ]
  },
  {
   "cell_type": "code",
   "execution_count": 142,
   "metadata": {},
   "outputs": [],
   "source": [
    "corr = np.abs(dataset.corr())"
   ]
  },
  {
   "cell_type": "code",
   "execution_count": 143,
   "metadata": {},
   "outputs": [
    {
     "data": {
      "text/plain": [
       "Text(0.5,1,'Correlation matrix')"
      ]
     },
     "execution_count": 143,
     "metadata": {},
     "output_type": "execute_result"
    },
    {
     "data": {
      "image/png": "[encoded data removed]",
      "text/plain": [
       "<Figure size 432x288 with 2 Axes>"
      ]
     },
     "metadata": {},
     "output_type": "display_data"
    }
   ],
   "source": [
    "ax = sns. heatmap(corr, square = True, cbar_kws={\"shrink\": .5})\n",
    "plt.title(\"Correlation matrix\")"
   ]
  },
  {
   "cell_type": "code",
   "execution_count": 217,
   "metadata": {},
   "outputs": [
    {
     "data": {
      "text/html": [
       "<div>\n",
       "<style scoped>\n",
       "    .dataframe tbody tr th:only-of-type {\n",
       "        vertical-align: middle;\n",
       "    }\n",
       "\n",
       "    .dataframe tbody tr th {\n",
       "        vertical-align: top;\n",
       "    }\n",
       "\n",
       "    .dataframe thead th {\n",
       "        text-align: right;\n",
       "    }\n",
       "</style>\n",
       "<table border=\"1\" class=\"dataframe\">\n",
       "  <thead>\n",
       "    <tr style=\"text-align: right;\">\n",
       "      <th></th>\n",
       "      <th>count</th>\n",
       "      <th>mean</th>\n",
       "      <th>std</th>\n",
       "      <th>min</th>\n",
       "      <th>25%</th>\n",
       "      <th>50%</th>\n",
       "      <th>75%</th>\n",
       "      <th>max</th>\n",
       "    </tr>\n",
       "  </thead>\n",
       "  <tbody>\n",
       "    <tr>\n",
       "      <th>index</th>\n",
       "      <td>8991.0</td>\n",
       "      <td>4642.993104</td>\n",
       "      <td>2706.482068</td>\n",
       "      <td>0.000000</td>\n",
       "      <td>2288.500000</td>\n",
       "      <td>4642.000000</td>\n",
       "      <td>6970.500000</td>\n",
       "      <td>9356.000000</td>\n",
       "    </tr>\n",
       "    <tr>\n",
       "      <th>CO(GT)</th>\n",
       "      <td>8991.0</td>\n",
       "      <td>0.982158</td>\n",
       "      <td>0.410699</td>\n",
       "      <td>0.095310</td>\n",
       "      <td>0.693147</td>\n",
       "      <td>0.916291</td>\n",
       "      <td>1.280934</td>\n",
       "      <td>2.557227</td>\n",
       "    </tr>\n",
       "    <tr>\n",
       "      <th>PT08.S1(CO)</th>\n",
       "      <td>8991.0</td>\n",
       "      <td>6.985173</td>\n",
       "      <td>0.190860</td>\n",
       "      <td>6.474276</td>\n",
       "      <td>6.843483</td>\n",
       "      <td>6.969791</td>\n",
       "      <td>7.116597</td>\n",
       "      <td>7.621073</td>\n",
       "    </tr>\n",
       "    <tr>\n",
       "      <th>C6H6(GT)</th>\n",
       "      <td>8991.0</td>\n",
       "      <td>2.182163</td>\n",
       "      <td>0.691711</td>\n",
       "      <td>0.138934</td>\n",
       "      <td>1.693217</td>\n",
       "      <td>2.223526</td>\n",
       "      <td>2.707282</td>\n",
       "      <td>4.170402</td>\n",
       "    </tr>\n",
       "    <tr>\n",
       "      <th>NOx(GT)</th>\n",
       "      <td>8991.0</td>\n",
       "      <td>4.979270</td>\n",
       "      <td>0.870645</td>\n",
       "      <td>1.098612</td>\n",
       "      <td>4.189655</td>\n",
       "      <td>4.947340</td>\n",
       "      <td>5.638355</td>\n",
       "      <td>7.299797</td>\n",
       "    </tr>\n",
       "    <tr>\n",
       "      <th>PT08.S3(NOx)</th>\n",
       "      <td>8991.0</td>\n",
       "      <td>6.684618</td>\n",
       "      <td>0.297650</td>\n",
       "      <td>5.777652</td>\n",
       "      <td>6.490534</td>\n",
       "      <td>6.692704</td>\n",
       "      <td>6.877554</td>\n",
       "      <td>7.894970</td>\n",
       "    </tr>\n",
       "    <tr>\n",
       "      <th>NO2(GT)</th>\n",
       "      <td>8991.0</td>\n",
       "      <td>4.621125</td>\n",
       "      <td>0.430192</td>\n",
       "      <td>1.098612</td>\n",
       "      <td>4.454347</td>\n",
       "      <td>4.584967</td>\n",
       "      <td>4.890349</td>\n",
       "      <td>5.809943</td>\n",
       "    </tr>\n",
       "    <tr>\n",
       "      <th>PT08.S4(NO2)</th>\n",
       "      <td>8991.0</td>\n",
       "      <td>1456.143486</td>\n",
       "      <td>346.204540</td>\n",
       "      <td>551.000000</td>\n",
       "      <td>1226.625000</td>\n",
       "      <td>1462.750000</td>\n",
       "      <td>1673.500000</td>\n",
       "      <td>2775.000000</td>\n",
       "    </tr>\n",
       "    <tr>\n",
       "      <th>PT08.S5(O3)</th>\n",
       "      <td>8991.0</td>\n",
       "      <td>1022.780725</td>\n",
       "      <td>398.480897</td>\n",
       "      <td>221.000000</td>\n",
       "      <td>731.375000</td>\n",
       "      <td>963.250000</td>\n",
       "      <td>1273.375000</td>\n",
       "      <td>2522.750000</td>\n",
       "    </tr>\n",
       "    <tr>\n",
       "      <th>Season</th>\n",
       "      <td>8991.0</td>\n",
       "      <td>2.521855</td>\n",
       "      <td>1.328537</td>\n",
       "      <td>1.000000</td>\n",
       "      <td>1.000000</td>\n",
       "      <td>2.000000</td>\n",
       "      <td>4.000000</td>\n",
       "      <td>5.000000</td>\n",
       "    </tr>\n",
       "  </tbody>\n",
       "</table>\n",
       "</div>"
      ],
      "text/plain": [
       "               count         mean          std         min          25%  \\\n",
       "index         8991.0  4642.993104  2706.482068    0.000000  2288.500000   \n",
       "CO(GT)        8991.0     0.982158     0.410699    0.095310     0.693147   \n",
       "PT08.S1(CO)   8991.0     6.985173     0.190860    6.474276     6.843483   \n",
       "C6H6(GT)      8991.0     2.182163     0.691711    0.138934     1.693217   \n",
       "NOx(GT)       8991.0     4.979270     0.870645    1.098612     4.189655   \n",
       "PT08.S3(NOx)  8991.0     6.684618     0.297650    5.777652     6.490534   \n",
       "NO2(GT)       8991.0     4.621125     0.430192    1.098612     4.454347   \n",
       "PT08.S4(NO2)  8991.0  1456.143486   346.204540  551.000000  1226.625000   \n",
       "PT08.S5(O3)   8991.0  1022.780725   398.480897  221.000000   731.375000   \n",
       "Season        8991.0     2.521855     1.328537    1.000000     1.000000   \n",
       "\n",
       "                      50%          75%          max  \n",
       "index         4642.000000  6970.500000  9356.000000  \n",
       "CO(GT)           0.916291     1.280934     2.557227  \n",
       "PT08.S1(CO)      6.969791     7.116597     7.621073  \n",
       "C6H6(GT)         2.223526     2.707282     4.170402  \n",
       "NOx(GT)          4.947340     5.638355     7.299797  \n",
       "PT08.S3(NOx)     6.692704     6.877554     7.894970  \n",
       "NO2(GT)          4.584967     4.890349     5.809943  \n",
       "PT08.S4(NO2)  1462.750000  1673.500000  2775.000000  \n",
       "PT08.S5(O3)    963.250000  1273.375000  2522.750000  \n",
       "Season           2.000000     4.000000     5.000000  "
      ]
     },
     "execution_count": 217,
     "metadata": {},
     "output_type": "execute_result"
    }
   ],
   "source": [
    "dataset.describe().T"
   ]
  },
  {
   "cell_type": "code",
   "execution_count": 145,
   "metadata": {},
   "outputs": [],
   "source": [
    "dataset = dataset[dataset['C6H6(GT)'] != -200]\n"
   ]
  },
  {
   "cell_type": "code",
   "execution_count": 146,
   "metadata": {},
   "outputs": [],
   "source": [
    "#dataset"
   ]
  },
  {
   "cell_type": "code",
   "execution_count": 147,
   "metadata": {},
   "outputs": [],
   "source": [
    "#dataset.info()"
   ]
  },
  {
   "cell_type": "code",
   "execution_count": 148,
   "metadata": {},
   "outputs": [],
   "source": [
    "dataset.drop('PT08.S2(NMHC)', axis = 1, inplace = True)"
   ]
  },
  {
   "cell_type": "code",
   "execution_count": 149,
   "metadata": {},
   "outputs": [],
   "source": [
    "#dataset"
   ]
  },
  {
   "cell_type": "code",
   "execution_count": 150,
   "metadata": {},
   "outputs": [],
   "source": [
    "dataset.drop('RH', axis = 1, inplace = True)"
   ]
  },
  {
   "cell_type": "code",
   "execution_count": 151,
   "metadata": {},
   "outputs": [],
   "source": [
    "dataset.drop('AH', axis = 1, inplace = True)"
   ]
  },
  {
   "cell_type": "code",
   "execution_count": 152,
   "metadata": {},
   "outputs": [],
   "source": [
    "dataset.drop('T', axis = 1, inplace = True)"
   ]
  },
  {
   "cell_type": "code",
   "execution_count": 153,
   "metadata": {},
   "outputs": [],
   "source": [
    "#dataset"
   ]
  },
  {
   "cell_type": "code",
   "execution_count": 154,
   "metadata": {},
   "outputs": [],
   "source": [
    "dataset[dataset == -200] = np.nan\n",
    "dataset = dataset.apply(lambda x:x.fillna(x.value_counts().index[0]))"
   ]
  },
  {
   "cell_type": "code",
   "execution_count": 155,
   "metadata": {},
   "outputs": [],
   "source": [
    "skew_values = dataset.skew()\n",
    "skewed = skew_values[skew_values > 0.75]\n",
    "# cat_dataset = dataset.select_dtypes(['object'])"
   ]
  },
  {
   "cell_type": "code",
   "execution_count": 156,
   "metadata": {},
   "outputs": [],
   "source": [
    "skewed_index = skewed.index\n",
    "dataset[skewed_index] = np.log1p(dataset[skewed_index])"
   ]
  },
  {
   "cell_type": "code",
   "execution_count": 157,
   "metadata": {},
   "outputs": [],
   "source": [
    "#cat_dataset.T\n",
    "skewed = skew_values[skew_values < -0.75]\n",
    "skewed_index = skewed.index\n",
    "dataset[skewed_index] = np.log1p(dataset[skewed_index])"
   ]
  },
  {
   "cell_type": "code",
   "execution_count": 158,
   "metadata": {},
   "outputs": [],
   "source": [
    "#skewed"
   ]
  },
  {
   "cell_type": "code",
   "execution_count": null,
   "metadata": {},
   "outputs": [],
   "source": []
  },
  {
   "cell_type": "code",
   "execution_count": 159,
   "metadata": {},
   "outputs": [],
   "source": [
    "#dataset"
   ]
  },
  {
   "cell_type": "code",
   "execution_count": 160,
   "metadata": {},
   "outputs": [],
   "source": [
    "#dataset.skew()\n",
    "#dataset\n"
   ]
  },
  {
   "cell_type": "code",
   "execution_count": 161,
   "metadata": {},
   "outputs": [
    {
     "data": {
      "image/png": "[encoded data removed]",
      "text/plain": [
       "<Figure size 432x288 with 1 Axes>"
      ]
     },
     "metadata": {},
     "output_type": "display_data"
    },
    {
     "data": {
      "image/png": "[encoded data removed]",
      "text/plain": [
       "<Figure size 432x288 with 1 Axes>"
      ]
     },
     "metadata": {},
     "output_type": "display_data"
    },
    {
     "data": {
      "image/png": "[encoded data removed]",
      "text/plain": [
       "<Figure size 432x288 with 1 Axes>"
      ]
     },
     "metadata": {},
     "output_type": "display_data"
    },
    {
     "data": {
      "image/png": "[encoded data removed]",
      "text/plain": [
       "<Figure size 432x288 with 1 Axes>"
      ]
     },
     "metadata": {},
     "output_type": "display_data"
    },
    {
     "data": {
      "image/png": "[encoded data removed]",
      "text/plain": [
       "<Figure size 432x288 with 1 Axes>"
      ]
     },
     "metadata": {},
     "output_type": "display_data"
    },
    {
     "data": {
      "image/png": "[encoded data removed]",
      "text/plain": [
       "<Figure size 432x288 with 1 Axes>"
      ]
     },
     "metadata": {},
     "output_type": "display_data"
    },
    {
     "data": {
      "image/png": "[encoded data removed]",
      "text/plain": [
       "<Figure size 432x288 with 1 Axes>"
      ]
     },
     "metadata": {},
     "output_type": "display_data"
    },
    {
     "data": {
      "image/png": "[encoded data removed]",
      "text/plain": [
       "<Figure size 432x288 with 1 Axes>"
      ]
     },
     "metadata": {},
     "output_type": "display_data"
    },
    {
     "data": {
      "image/png": "[encoded data removed]",
      "text/plain": [
       "<Figure size 432x288 with 1 Axes>"
      ]
     },
     "metadata": {},
     "output_type": "display_data"
    }
   ],
   "source": [
    "#list(dataset.columns)[1:]\n",
    "#dataset[dataset.columns]\n",
    "for i in list(dataset.columns)[2:]:\n",
    "    plt.figure()\n",
    "    plt.title(i)\n",
    "    dataset[i].plot.hist(bins = 200, figsize = (6,4))\n",
    "    "
   ]
  },
  {
   "cell_type": "code",
   "execution_count": null,
   "metadata": {},
   "outputs": [],
   "source": []
  },
  {
   "cell_type": "code",
   "execution_count": null,
   "metadata": {},
   "outputs": [],
   "source": []
  },
  {
   "cell_type": "code",
   "execution_count": null,
   "metadata": {},
   "outputs": [],
   "source": [
    "\n",
    "\n"
   ]
  },
  {
   "cell_type": "code",
   "execution_count": 162,
   "metadata": {},
   "outputs": [],
   "source": [
    "#dataset[dataset < 0].sum()"
   ]
  },
  {
   "cell_type": "code",
   "execution_count": 163,
   "metadata": {},
   "outputs": [],
   "source": [
    "dataset.drop('NMHC(GT)', axis = 1, inplace = True)"
   ]
  },
  {
   "cell_type": "code",
   "execution_count": 234,
   "metadata": {},
   "outputs": [],
   "source": [
    "#dataset['Month'] = dataset['Date']\n",
    "def get_season(date):\n",
    "    m = date.month\n",
    "   # print(m)\n",
    "    if m in (12,1, 2):\n",
    "        return 4 #winter\n",
    "    if m >=3 and m < 6:\n",
    "        return 1 #spring\n",
    "    if m >= 6 and m < 9:\n",
    "        return 2 # summer\n",
    "    if m >= 9 and m < 12:\n",
    "        return 3 #fall\n",
    "   # print (m)\n",
    "    return 5\n",
    "dataset['Season'] = dataset['Date'].apply(get_season) "
   ]
  },
  {
   "cell_type": "code",
   "execution_count": 235,
   "metadata": {},
   "outputs": [],
   "source": [
    "# Partition the dataset in train + validation sets\n",
    "#X_train, X_val, y_train, y_val = train_test_split(train, target, test_size = 0.3, random_state = 0)\n",
    "dataset_no_target = dataset.drop('C6H6(GT)', axis = 1)\n",
    "target = dataset[['Date', 'C6H6(GT)']]"
   ]
  },
  {
   "cell_type": "code",
   "execution_count": 236,
   "metadata": {},
   "outputs": [],
   "source": [
    "#target\n",
    "#dataset\n",
    "#dataset[dataset == np.nan].count()\n",
    "\n",
    "# def get_months(d):\n",
    "#     return d.month\n",
    "# unique_months = dataset['Date'].apply(get_months).unique()\n",
    "# unique_months"
   ]
  },
  {
   "cell_type": "code",
   "execution_count": 233,
   "metadata": {},
   "outputs": [
    {
     "data": {
      "text/plain": [
       "array([1, 2, 3, 4])"
      ]
     },
     "execution_count": 233,
     "metadata": {},
     "output_type": "execute_result"
    }
   ],
   "source": [
    "#dataset['Season'].unique()"
   ]
  },
  {
   "cell_type": "code",
   "execution_count": 259,
   "metadata": {},
   "outputs": [
    {
     "name": "stdout",
     "output_type": "stream",
     "text": [
      "X_train : (6218, 11)\n",
      "X_test : (2773, 11)\n",
      "y_train : (6218,)\n"
     ]
    }
   ],
   "source": [
    "X_train = dataset_no_target[dataset_no_target['Date'] < '2004-12-01']\n",
    "X_test = dataset_no_target[dataset_no_target['Date'] >= '2004-12-01']\n",
    "Y_train = target[target['Date'] < '2004-12-01']['C6H6(GT)']\n",
    "Y_test = target[target['Date'] >= '2004-12-01']['C6H6(GT)']\n",
    "print(\"X_train : \" + str(X_train.shape))\n",
    "print(\"X_test : \" + str(X_test.shape))\n",
    "print(\"y_train : \" + str(Y_train.shape))\n",
    "#print(\"y_val : \" + str(y_val.shape))"
   ]
  },
  {
   "cell_type": "code",
   "execution_count": 260,
   "metadata": {},
   "outputs": [],
   "source": [
    "scaler = StandardScaler()"
   ]
  },
  {
   "cell_type": "code",
   "execution_count": 261,
   "metadata": {},
   "outputs": [],
   "source": [
    "X_train_scaled = scaler.fit_transform(X_train.drop(['Date', \"Time\"], axis =1))"
   ]
  },
  {
   "cell_type": "code",
   "execution_count": 262,
   "metadata": {},
   "outputs": [],
   "source": [
    "X_test_scaled = scaler.fit_transform(X_test.drop(['Date', \"Time\"], axis =1))"
   ]
  },
  {
   "cell_type": "code",
   "execution_count": 263,
   "metadata": {},
   "outputs": [],
   "source": [
    "#X_train_all = np.concatenate([X_train[['Date', 'Time']], X_train_scaled], axis = 1)  \n",
    "#np.any(np.isnan(dataset))\n",
    "#dataset = dataset.reset_index()"
   ]
  },
  {
   "cell_type": "code",
   "execution_count": 264,
   "metadata": {},
   "outputs": [],
   "source": [
    "#X_train['Date'].shape\n",
    "scoring = ['neg_mean_absolute_error', 'neg_mean_squared_error', \n",
    "           'neg_median_absolute_error', 'r2']"
   ]
  },
  {
   "cell_type": "code",
   "execution_count": 265,
   "metadata": {},
   "outputs": [],
   "source": [
    "#X_train_scaled.shape"
   ]
  },
  {
   "cell_type": "code",
   "execution_count": 266,
   "metadata": {},
   "outputs": [
    {
     "name": "stdout",
     "output_type": "stream",
     "text": [
      "LinearRegression(copy_X=True, fit_intercept=True, n_jobs=1, normalize=False)\n"
     ]
    }
   ],
   "source": [
    "linreg = LinearRegression()\n",
    "\n",
    "cvs = []\n",
    "for metric in scoring:\n",
    "    cvs.append(cross_val_score(linreg, X_train_scaled, Y_train, cv=5, scoring=metric))\n",
    "print(linreg)"
   ]
  },
  {
   "cell_type": "code",
   "execution_count": 267,
   "metadata": {},
   "outputs": [
    {
     "name": "stdout",
     "output_type": "stream",
     "text": [
      "neg_mean_absolute_error -0.19612\n",
      "neg_mean_squared_error -0.06341\n",
      "neg_median_absolute_error -0.17293\n",
      "r2 0.85700\n"
     ]
    }
   ],
   "source": [
    "for i in range(len(scoring)):\n",
    "    print(\"%s %0.5f\" % (scoring[i], cvs[i].mean()))"
   ]
  },
  {
   "cell_type": "code",
   "execution_count": 268,
   "metadata": {},
   "outputs": [],
   "source": [
    "clf = Ridge().fit(X_train_scaled,Y_train)"
   ]
  },
  {
   "cell_type": "code",
   "execution_count": 276,
   "metadata": {},
   "outputs": [
    {
     "data": {
      "text/plain": [
       "0.3245703877564353"
      ]
     },
     "execution_count": 276,
     "metadata": {},
     "output_type": "execute_result"
    }
   ],
   "source": [
    "#X_train.info()\n",
    "\n",
    "#np.sqrt(mean_squared_error(y_pred,Y_test))"
   ]
  },
  {
   "cell_type": "code",
   "execution_count": 275,
   "metadata": {},
   "outputs": [
    {
     "name": "stdout",
     "output_type": "stream",
     "text": [
      "(2773, 11)\n"
     ]
    }
   ],
   "source": [
    "#Y_train\n",
    "print(X_test.shape)"
   ]
  },
  {
   "cell_type": "code",
   "execution_count": 273,
   "metadata": {},
   "outputs": [],
   "source": [
    "y_pred_df = pd.DataFrame(y_pred,columns=['target'])\n",
    "y_pred_df.to_csv('ridge.csv', index=False) "
   ]
  },
  {
   "cell_type": "code",
   "execution_count": null,
   "metadata": {},
   "outputs": [],
   "source": []
  }
 ],
 "metadata": {
  "hide_input": false,
  "kernelspec": {
   "display_name": "Python 3",
   "language": "python",
   "name": "python3"
  },
  "language_info": {
   "codemirror_mode": {
    "name": "ipython",
    "version": 3
   },
   "file_extension": ".py",
   "mimetype": "text/x-python",
   "name": "python",
   "nbconvert_exporter": "python",
   "pygments_lexer": "ipython3",
   "version": "3.6.5"
  },
  "toc": {
   "base_numbering": 1,
   "nav_menu": {},
   "number_sections": true,
   "sideBar": true,
   "skip_h1_title": false,
   "title_cell": "Table of Contents",
   "title_sidebar": "Contents",
   "toc_cell": false,
   "toc_position": {},
   "toc_section_display": true,
   "toc_window_display": false
  }
 },
 "nbformat": 4,
 "nbformat_minor": 2
}
