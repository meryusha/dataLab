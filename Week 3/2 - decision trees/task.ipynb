{
 "cells": [
  {
   "cell_type": "code",
   "execution_count": 20,
   "metadata": {},
   "outputs": [],
   "source": [
    "%matplotlib inline\n",
    "import numpy as np\n",
    "import matplotlib.pyplot as plt\n",
    "import seaborn as sns; sns.set()\n",
    "from sklearn.tree import DecisionTreeClassifier, export_graphviz\n",
    "from sklearn import tree\n",
    "# from sklearn.datasets import load_wine\n",
    "from IPython.display import SVG\n",
    "# from graphviz import Source\n",
    "from IPython.display import display\n",
    "from sklearn.model_selection import train_test_split"
   ]
  },
  {
   "cell_type": "code",
   "execution_count": 21,
   "metadata": {},
   "outputs": [
    {
     "data": {
      "text/plain": [
       "dict_keys(['data', 'target', 'target_names', 'images', 'DESCR'])"
      ]
     },
     "execution_count": 21,
     "metadata": {},
     "output_type": "execute_result"
    }
   ],
   "source": [
    "from sklearn.datasets import load_digits\n",
    "digits = load_digits()\n",
    "digits.keys()"
   ]
  },
  {
   "cell_type": "code",
   "execution_count": 22,
   "metadata": {},
   "outputs": [
    {
     "data": {
      "image/png": "[encoded data removed]",
      "text/plain": [
       "<Figure size 432x432 with 64 Axes>"
      ]
     },
     "metadata": {},
     "output_type": "display_data"
    }
   ],
   "source": [
    "# set up the figure\n",
    "fig = plt.figure(figsize=(6, 6))  # figure size in inches\n",
    "fig.subplots_adjust(left=0, right=1, bottom=0, top=1, hspace=0.05, wspace=0.05)\n",
    "\n",
    "# plot the digits: each image is 8x8 pixels\n",
    "for i in range(64):\n",
    "    ax = fig.add_subplot(8, 8, i + 1, xticks=[], yticks=[])\n",
    "    ax.imshow(digits.images[i], cmap=plt.cm.binary, interpolation='nearest')\n",
    "    \n",
    "    # label the image with the target value\n",
    "    ax.text(0, 7, str(digits.target[i]))"
   ]
  },
  {
   "cell_type": "raw",
   "metadata": {},
   "source": [
    "Task: \n",
    "    Split data on train and test sets \n",
    "    Train both Decision Tree and Random Forest models\n",
    "    Calculate precision, recall and F-score\n",
    "    Tune parameters for each of these models using grid search\n",
    "    Conclusion"
   ]
  },
  {
   "cell_type": "code",
   "execution_count": null,
   "metadata": {},
   "outputs": [],
   "source": []
  },
  {
   "cell_type": "code",
   "execution_count": 64,
   "metadata": {},
   "outputs": [
    {
     "name": "stdout",
     "output_type": "stream",
     "text": [
      "(1797, 64)\n",
      "Optical Recognition of Handwritten Digits Data Set\n",
      "===================================================\n",
      "\n",
      "Notes\n",
      "-----\n",
      "Data Set Characteristics:\n",
      "    :Number of Instances: 5620\n",
      "    :Number of Attributes: 64\n",
      "    :Attribute Information: 8x8 image of integer pixels in the range 0..16.\n",
      "    :Missing Attribute Values: None\n",
      "    :Creator: E. Alpaydin (alpaydin '@' boun.edu.tr)\n",
      "    :Date: July; 1998\n",
      "\n",
      "This is a copy of the test set of the UCI ML hand-written digits datasets\n",
      "http://archive.ics.uci.edu/ml/datasets/Optical+Recognition+of+Handwritten+Digits\n",
      "\n",
      "The data set contains images of hand-written digits: 10 classes where\n",
      "each class refers to a digit.\n",
      "\n",
      "Preprocessing programs made available by NIST were used to extract\n",
      "normalized bitmaps of handwritten digits from a preprinted form. From a\n",
      "total of 43 people, 30 contributed to the training set and different 13\n",
      "to the test set. 32x32 bitmaps are divided into nonoverlapping blocks of\n",
      "4x4 and the number of on pixels are counted in each block. This generates\n",
      "an input matrix of 8x8 where each element is an integer in the range\n",
      "0..16. This reduces dimensionality and gives invariance to small\n",
      "distortions.\n",
      "\n",
      "For info on NIST preprocessing routines, see M. D. Garris, J. L. Blue, G.\n",
      "T. Candela, D. L. Dimmick, J. Geist, P. J. Grother, S. A. Janet, and C.\n",
      "L. Wilson, NIST Form-Based Handprint Recognition System, NISTIR 5469,\n",
      "1994.\n",
      "\n",
      "References\n",
      "----------\n",
      "  - C. Kaynak (1995) Methods of Combining Multiple Classifiers and Their\n",
      "    Applications to Handwritten Digit Recognition, MSc Thesis, Institute of\n",
      "    Graduate Studies in Science and Engineering, Bogazici University.\n",
      "  - E. Alpaydin, C. Kaynak (1998) Cascading Classifiers, Kybernetika.\n",
      "  - Ken Tang and Ponnuthurai N. Suganthan and Xi Yao and A. Kai Qin.\n",
      "    Linear dimensionalityreduction using relevance weighted LDA. School of\n",
      "    Electrical and Electronic Engineering Nanyang Technological University.\n",
      "    2005.\n",
      "  - Claudio Gentile. A New Approximate Maximal Margin Classification\n",
      "    Algorithm. NIPS. 2000.\n",
      "\n"
     ]
    }
   ],
   "source": [
    "\n",
    "# feature matrix\n",
    "X = digits.data\n",
    "\n",
    "# target vector\n",
    "y = digits.target\n",
    "\n",
    "# class labels\n",
    "# labels = digits.feature_names\n",
    "print(X.shape)\n",
    "# print dataset description\n",
    "print(digits.DESCR)\n",
    "\n"
   ]
  },
  {
   "cell_type": "code",
   "execution_count": 82,
   "metadata": {},
   "outputs": [
    {
     "data": {
      "text/plain": [
       "DecisionTreeClassifier(class_weight=None, criterion='gini', max_depth=None,\n",
       "            max_features=None, max_leaf_nodes=None,\n",
       "            min_impurity_decrease=0.0, min_impurity_split=None,\n",
       "            min_samples_leaf=1, min_samples_split=2,\n",
       "            min_weight_fraction_leaf=0.0, presort=False, random_state=None,\n",
       "            splitter='best')"
      ]
     },
     "execution_count": 82,
     "metadata": {},
     "output_type": "execute_result"
    }
   ],
   "source": [
    "X_train, X_test, y_train, y_test = train_test_split(X, y, test_size=0.7, random_state=101)\n",
    "estimator = DecisionTreeClassifier()\n",
    "estimator.fit(X_train, y_train)"
   ]
  },
  {
   "cell_type": "code",
   "execution_count": 59,
   "metadata": {},
   "outputs": [
    {
     "name": "stdout",
     "output_type": "stream",
     "text": [
      "[[65  0  1  0  1  0  0  0  0  2]\n",
      " [ 0 54  2  1  2  2  1  2  5  0]\n",
      " [ 1  3 49  5  0  0  2  0  3  2]\n",
      " [ 0  3  5 63  1  0  0  1  1  2]\n",
      " [ 1  1  1  1 70  0  2  2  0  0]\n",
      " [ 1  2  1  5  1 61  0  0  1  4]\n",
      " [ 3  0  1  0  0  2 58  0  0  0]\n",
      " [ 0  1  0  3  3  0  0 64  0  0]\n",
      " [ 0  3  4  3  5  0  0  0 61  2]\n",
      " [ 0  4  2  3  1  0  0  1  3 59]]\n",
      "             precision    recall  f1-score   support\n",
      "\n",
      "          0       0.92      0.94      0.93        69\n",
      "          1       0.76      0.78      0.77        69\n",
      "          2       0.74      0.75      0.75        65\n",
      "          3       0.75      0.83      0.79        76\n",
      "          4       0.83      0.90      0.86        78\n",
      "          5       0.94      0.80      0.87        76\n",
      "          6       0.92      0.91      0.91        64\n",
      "          7       0.91      0.90      0.91        71\n",
      "          8       0.82      0.78      0.80        78\n",
      "          9       0.83      0.81      0.82        73\n",
      "\n",
      "avg / total       0.84      0.84      0.84       719\n",
      "\n"
     ]
    }
   ],
   "source": [
    "from sklearn.metrics import classification_report, confusion_matrix\n",
    "pred = estimator.predict(X_test)\n",
    "print(confusion_matrix(y_test, pred))\n",
    "print(classification_report(y_test, pred))"
   ]
  },
  {
   "cell_type": "code",
   "execution_count": 50,
   "metadata": {},
   "outputs": [],
   "source": []
  },
  {
   "cell_type": "code",
   "execution_count": null,
   "metadata": {},
   "outputs": [],
   "source": []
  },
  {
   "cell_type": "code",
   "execution_count": null,
   "metadata": {},
   "outputs": [],
   "source": []
  },
  {
   "cell_type": "code",
   "execution_count": 61,
   "metadata": {},
   "outputs": [
    {
     "name": "stdout",
     "output_type": "stream",
     "text": [
      "[[68  0  0  0  1  0  0  0  0  0]\n",
      " [ 0 65  2  0  0  0  0  1  1  0]\n",
      " [ 1  0 64  0  0  0  0  0  0  0]\n",
      " [ 0  0  0 72  0  0  0  2  1  1]\n",
      " [ 0  1  0  0 74  1  0  2  0  0]\n",
      " [ 0  0  0  1  1 73  0  0  0  1]\n",
      " [ 1  1  0  0  1  0 61  0  0  0]\n",
      " [ 0  0  0  0  2  0  0 69  0  0]\n",
      " [ 0  4  2  0  0  0  0  1 70  1]\n",
      " [ 0  0  1  1  0  1  0  1  2 67]]\n",
      "             precision    recall  f1-score   support\n",
      "\n",
      "          0       0.97      0.99      0.98        69\n",
      "          1       0.92      0.94      0.93        69\n",
      "          2       0.93      0.98      0.96        65\n",
      "          3       0.97      0.95      0.96        76\n",
      "          4       0.94      0.95      0.94        78\n",
      "          5       0.97      0.96      0.97        76\n",
      "          6       1.00      0.95      0.98        64\n",
      "          7       0.91      0.97      0.94        71\n",
      "          8       0.95      0.90      0.92        78\n",
      "          9       0.96      0.92      0.94        73\n",
      "\n",
      "avg / total       0.95      0.95      0.95       719\n",
      "\n"
     ]
    }
   ],
   "source": [
    "from helpers import visualize_classifier\n",
    "from helpers import plot_tree_interactive\n",
    "from sklearn.tree import DecisionTreeClassifier\n",
    "from sklearn.ensemble import BaggingClassifier\n",
    "\n",
    "tree = DecisionTreeClassifier()\n",
    "bag = BaggingClassifier(tree, n_estimators=100, max_samples=0.8,\n",
    "                        random_state=1)\n",
    "\n",
    "bag.fit(X_train, y_train)\n",
    "pred = bag.predict(X_test)\n",
    "print(confusion_matrix(y_test, pred))\n",
    "print(classification_report(y_test, pred))\n",
    "# visualize_classifier(bag, X, y)"
   ]
  },
  {
   "cell_type": "code",
   "execution_count": 63,
   "metadata": {},
   "outputs": [
    {
     "name": "stdout",
     "output_type": "stream",
     "text": [
      "[[68  0  0  0  1  0  0  0  0  0]\n",
      " [ 0 67  0  0  0  1  0  0  1  0]\n",
      " [ 0  0 65  0  0  0  0  0  0  0]\n",
      " [ 0  0  0 74  0  0  0  2  0  0]\n",
      " [ 0  0  0  0 76  0  0  2  0  0]\n",
      " [ 0  0  0  0  1 74  0  0  0  1]\n",
      " [ 1  1  0  0  0  0 61  0  1  0]\n",
      " [ 0  0  0  0  0  0  0 70  1  0]\n",
      " [ 0  4  0  1  0  0  0  1 72  0]\n",
      " [ 0  0  0  1  0  1  0  0  1 70]]\n",
      "             precision    recall  f1-score   support\n",
      "\n",
      "          0       0.99      0.99      0.99        69\n",
      "          1       0.93      0.97      0.95        69\n",
      "          2       1.00      1.00      1.00        65\n",
      "          3       0.97      0.97      0.97        76\n",
      "          4       0.97      0.97      0.97        78\n",
      "          5       0.97      0.97      0.97        76\n",
      "          6       1.00      0.95      0.98        64\n",
      "          7       0.93      0.99      0.96        71\n",
      "          8       0.95      0.92      0.94        78\n",
      "          9       0.99      0.96      0.97        73\n",
      "\n",
      "avg / total       0.97      0.97      0.97       719\n",
      "\n"
     ]
    }
   ],
   "source": [
    "from sklearn.ensemble import RandomForestClassifier\n",
    "\n",
    "model = RandomForestClassifier(n_estimators=100, random_state=0)\n",
    "# visualize_classifier(model, X, y);\n",
    "model.fit(X_train, y_train)\n",
    "pred = model.predict(X_test)\n",
    "print(confusion_matrix(y_test, pred))\n",
    "print(classification_report(y_test, pred))"
   ]
  },
  {
   "cell_type": "code",
   "execution_count": 65,
   "metadata": {},
   "outputs": [
    {
     "data": {
      "text/plain": [
       "KNeighborsClassifier(algorithm='auto', leaf_size=30, metric='minkowski',\n",
       "           metric_params=None, n_jobs=1, n_neighbors=1, p=2,\n",
       "           weights='uniform')"
      ]
     },
     "execution_count": 65,
     "metadata": {},
     "output_type": "execute_result"
    }
   ],
   "source": [
    "from sklearn.neighbors import KNeighborsClassifier\n",
    "knn = KNeighborsClassifier(n_neighbors = 1)\n",
    "knn.fit(X_train, y_train)"
   ]
  },
  {
   "cell_type": "code",
   "execution_count": 77,
   "metadata": {},
   "outputs": [],
   "source": [
    "pred = knn.predict(X_test)"
   ]
  },
  {
   "cell_type": "code",
   "execution_count": 73,
   "metadata": {},
   "outputs": [
    {
     "name": "stdout",
     "output_type": "stream",
     "text": [
      "[[68  0  0  0  1  0  0  0  0  0]\n",
      " [ 0 67  0  0  0  1  0  0  1  0]\n",
      " [ 0  0 65  0  0  0  0  0  0  0]\n",
      " [ 0  0  0 74  0  0  0  2  0  0]\n",
      " [ 0  0  0  0 76  0  0  2  0  0]\n",
      " [ 0  0  0  0  1 74  0  0  0  1]\n",
      " [ 1  1  0  0  0  0 61  0  1  0]\n",
      " [ 0  0  0  0  0  0  0 70  1  0]\n",
      " [ 0  4  0  1  0  0  0  1 72  0]\n",
      " [ 0  0  0  1  0  1  0  0  1 70]]\n",
      "             precision    recall  f1-score   support\n",
      "\n",
      "          0       0.99      0.99      0.99        69\n",
      "          1       0.93      0.97      0.95        69\n",
      "          2       1.00      1.00      1.00        65\n",
      "          3       0.97      0.97      0.97        76\n",
      "          4       0.97      0.97      0.97        78\n",
      "          5       0.97      0.97      0.97        76\n",
      "          6       1.00      0.95      0.98        64\n",
      "          7       0.93      0.99      0.96        71\n",
      "          8       0.95      0.92      0.94        78\n",
      "          9       0.99      0.96      0.97        73\n",
      "\n",
      "avg / total       0.97      0.97      0.97       719\n",
      "\n"
     ]
    }
   ],
   "source": [
    "print(confusion_matrix( y_test, pred))\n",
    "print(classification_report(y_test, pred))"
   ]
  },
  {
   "cell_type": "code",
   "execution_count": 80,
   "metadata": {},
   "outputs": [],
   "source": [
    "import numpy as np\n",
    "error_rate = []\n",
    "grid_err = 1\n",
    "opt_k = 1\n",
    "for i in range(1,40):\n",
    "    knn = KNeighborsClassifier(n_neighbors = i)\n",
    "    knn.fit(X_train, y_train)\n",
    "    pred_i = knn.predict(X_test)\n",
    "    err = np.mean(pred_i != y_test)\n",
    "    error_rate.append(err)\n",
    "    if grid_err < err:\n",
    "        grid_err = err  \n",
    "        opt_k = i"
   ]
  },
  {
   "cell_type": "code",
   "execution_count": 81,
   "metadata": {},
   "outputs": [
    {
     "name": "stdout",
     "output_type": "stream",
     "text": [
      "1\n"
     ]
    },
    {
     "data": {
      "image/png": "[encoded data removed]",
      "text/plain": [
       "<Figure size 1080x432 with 1 Axes>"
      ]
     },
     "metadata": {},
     "output_type": "display_data"
    }
   ],
   "source": [
    "plt.figure(figsize=(15,6))\n",
    "plt.plot(range(1,40),error_rate,color='blue',linestyle='dashed',marker='o', markerfacecolor='red', markersize='10')\n",
    "plt.xlabel('no. of K')\n",
    "plt.ylabel('Error Rate')\n",
    "print(opt_k)"
   ]
  },
  {
   "cell_type": "code",
   "execution_count": null,
   "metadata": {},
   "outputs": [],
   "source": []
  }
 ],
 "metadata": {
  "hide_input": false,
  "kernelspec": {
   "display_name": "Python 3",
   "language": "python",
   "name": "python3"
  },
  "language_info": {
   "codemirror_mode": {
    "name": "ipython",
    "version": 3
   },
   "file_extension": ".py",
   "mimetype": "text/x-python",
   "name": "python",
   "nbconvert_exporter": "python",
   "pygments_lexer": "ipython3",
   "version": "3.6.5"
  },
  "toc": {
   "base_numbering": 1,
   "nav_menu": {},
   "number_sections": true,
   "sideBar": true,
   "skip_h1_title": false,
   "title_cell": "Table of Contents",
   "title_sidebar": "Contents",
   "toc_cell": false,
   "toc_position": {},
   "toc_section_display": true,
   "toc_window_display": false
  }
 },
 "nbformat": 4,
 "nbformat_minor": 2
}
