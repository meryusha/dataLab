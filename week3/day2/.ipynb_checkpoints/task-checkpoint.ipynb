{
 "cells": [
  {
   "cell_type": "raw",
   "metadata": {},
   "source": [
    "Download data from\n",
    "https://www.kaggle.com/c/sberbank-russian-housing-market/data\n",
    "\n",
    "- Do some EDA\n",
    "- Train XGBoost\n",
    "- Try 'hyperopt' library for parameters optimization (at least 5 parameters should be optimized)\n",
    "- Provide importance of features\n",
    "- Play with early_stopping\n",
    "- Set couple of evaluation metrics. They should be printer for each iteration during training\n",
    "- BONUS: beat baseline\n",
    "- BONUS: train ADABoost for comparison\n",
    "- BONUS: use some external data"
   ]
  }
 ],
 "metadata": {
  "hide_input": false,
  "kernelspec": {
   "display_name": "Python 3",
   "language": "python",
   "name": "python3"
  },
  "language_info": {
   "codemirror_mode": {
    "name": "ipython",
    "version": 3
   },
   "file_extension": ".py",
   "mimetype": "text/x-python",
   "name": "python",
   "nbconvert_exporter": "python",
   "pygments_lexer": "ipython3",
   "version": "3.6.5"
  },
  "toc": {
   "base_numbering": 1,
   "nav_menu": {},
   "number_sections": true,
   "sideBar": true,
   "skip_h1_title": false,
   "title_cell": "Table of Contents",
   "title_sidebar": "Contents",
   "toc_cell": false,
   "toc_position": {},
   "toc_section_display": true,
   "toc_window_display": false
  }
 },
 "nbformat": 4,
 "nbformat_minor": 2
}
